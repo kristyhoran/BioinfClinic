{
 "cells": [
  {
   "cell_type": "code",
   "execution_count": 9,
   "metadata": {},
   "outputs": [],
   "source": [
    "import pathlib, pandas, numpy, random, string"
   ]
  },
  {
   "cell_type": "markdown",
   "metadata": {},
   "source": [
    "## Load a file\n",
    "\n",
    "Pandas can load many formats. I commonly use `read_csv` and `read_excel`.\n",
    "\n",
    "`read_csv` allows the flexibilty of different separator (comma is default), header options and index (row names for those familar with R dataframes) options. "
   ]
  },
  {
   "cell_type": "code",
   "execution_count": 23,
   "metadata": {},
   "outputs": [],
   "source": [
    "dummy = pandas.read_csv('pandas/dummydataset.txt', sep = '\\t')"
   ]
  },
  {
   "cell_type": "markdown",
   "metadata": {},
   "source": [
    "## Explore the dataframe\n",
    "\n",
    "A sanity check of your data is always a good idea.. is it the right size? has the file loaded as expected (incorrect delimiters or odd characters)? Is there any missing data? etc;"
   ]
  },
  {
   "cell_type": "code",
   "execution_count": 28,
   "metadata": {},
   "outputs": [
    {
     "data": {
      "text/plain": [
       "(274, 3)"
      ]
     },
     "execution_count": 28,
     "metadata": {},
     "output_type": "execute_result"
    }
   ],
   "source": [
    "dummy.shape #274 rows and 3 columns"
   ]
  },
  {
   "cell_type": "code",
   "execution_count": 30,
   "metadata": {},
   "outputs": [
    {
     "data": {
      "text/html": [
       "<div>\n",
       "<style scoped>\n",
       "    .dataframe tbody tr th:only-of-type {\n",
       "        vertical-align: middle;\n",
       "    }\n",
       "\n",
       "    .dataframe tbody tr th {\n",
       "        vertical-align: top;\n",
       "    }\n",
       "\n",
       "    .dataframe thead th {\n",
       "        text-align: right;\n",
       "    }\n",
       "</style>\n",
       "<table border=\"1\" class=\"dataframe\">\n",
       "  <thead>\n",
       "    <tr style=\"text-align: right;\">\n",
       "      <th></th>\n",
       "      <th>Sample name</th>\n",
       "      <th>MLST</th>\n",
       "      <th>MLST_pcr</th>\n",
       "    </tr>\n",
       "  </thead>\n",
       "  <tbody>\n",
       "    <tr>\n",
       "      <th>0</th>\n",
       "      <td>VGT9N5</td>\n",
       "      <td>-</td>\n",
       "      <td>NaN</td>\n",
       "    </tr>\n",
       "    <tr>\n",
       "      <th>1</th>\n",
       "      <td>U3IZ39</td>\n",
       "      <td>11</td>\n",
       "      <td>NaN</td>\n",
       "    </tr>\n",
       "    <tr>\n",
       "      <th>2</th>\n",
       "      <td>H7YRGD</td>\n",
       "      <td>213</td>\n",
       "      <td>NaN</td>\n",
       "    </tr>\n",
       "    <tr>\n",
       "      <th>3</th>\n",
       "      <td>PBGMLI</td>\n",
       "      <td>43</td>\n",
       "      <td>NaN</td>\n",
       "    </tr>\n",
       "    <tr>\n",
       "      <th>4</th>\n",
       "      <td>RM3OA4</td>\n",
       "      <td>7808</td>\n",
       "      <td>NaN</td>\n",
       "    </tr>\n",
       "  </tbody>\n",
       "</table>\n",
       "</div>"
      ],
      "text/plain": [
       "  Sample name  MLST MLST_pcr\n",
       "0      VGT9N5     -      NaN\n",
       "1      U3IZ39    11      NaN\n",
       "2      H7YRGD   213      NaN\n",
       "3      PBGMLI    43      NaN\n",
       "4      RM3OA4  7808      NaN"
      ]
     },
     "execution_count": 30,
     "metadata": {},
     "output_type": "execute_result"
    }
   ],
   "source": [
    "dummy.head()"
   ]
  },
  {
   "cell_type": "markdown",
   "metadata": {},
   "source": [
    "## Accessing different parts of the dataframe\n",
    "\n",
    "A dataframe can be thought of as a large dictionary - containing many smaller identically structured dictionaries. Each of these smaller dictionaries are `key:value` pairs, where `key` is the column name and the `value` is the cell content. \n",
    "\n",
    "### Columns\n",
    "\n",
    "Columns are essentially a list of values - these can be specified when you load the file if you like or modified later as a group (ie all the columns names at once) or individually"
   ]
  },
  {
   "cell_type": "code",
   "execution_count": 31,
   "metadata": {},
   "outputs": [
    {
     "data": {
      "text/plain": [
       "Index(['Sample name', 'MLST', 'MLST_pcr'], dtype='object')"
      ]
     },
     "execution_count": 31,
     "metadata": {},
     "output_type": "execute_result"
    }
   ],
   "source": [
    "dummy.columns"
   ]
  },
  {
   "cell_type": "code",
   "execution_count": 42,
   "metadata": {},
   "outputs": [],
   "source": [
    "dummy.columns = ['Ioslate', 'MLST_A', 'MLST_B']"
   ]
  },
  {
   "cell_type": "code",
   "execution_count": 43,
   "metadata": {},
   "outputs": [
    {
     "data": {
      "text/plain": [
       "Index(['Ioslate', 'MLST_A', 'MLST_B'], dtype='object')"
      ]
     },
     "execution_count": 43,
     "metadata": {},
     "output_type": "execute_result"
    }
   ],
   "source": [
    "dummy.columns"
   ]
  },
  {
   "cell_type": "code",
   "execution_count": 44,
   "metadata": {},
   "outputs": [
    {
     "ename": "TypeError",
     "evalue": "Index does not support mutable operations",
     "output_type": "error",
     "traceback": [
      "\u001b[0;31m---------------------------------------------------------------------------\u001b[0m",
      "\u001b[0;31mTypeError\u001b[0m                                 Traceback (most recent call last)",
      "\u001b[0;32m<ipython-input-44-26bfae8f2fd4>\u001b[0m in \u001b[0;36m<module>\u001b[0;34m()\u001b[0m\n\u001b[0;32m----> 1\u001b[0;31m \u001b[0mdummy\u001b[0m\u001b[0;34m.\u001b[0m\u001b[0mcolumns\u001b[0m\u001b[0;34m[\u001b[0m\u001b[0;36m0\u001b[0m\u001b[0;34m]\u001b[0m \u001b[0;34m=\u001b[0m \u001b[0;34m[\u001b[0m\u001b[0;34m'Isolate'\u001b[0m\u001b[0;34m]\u001b[0m\u001b[0;34m\u001b[0m\u001b[0m\n\u001b[0m",
      "\u001b[0;32m/Library/Frameworks/Python.framework/Versions/3.6/lib/python3.6/site-packages/pandas/core/indexes/base.py\u001b[0m in \u001b[0;36m__setitem__\u001b[0;34m(self, key, value)\u001b[0m\n\u001b[1;32m   2063\u001b[0m \u001b[0;34m\u001b[0m\u001b[0m\n\u001b[1;32m   2064\u001b[0m     \u001b[0;32mdef\u001b[0m \u001b[0m__setitem__\u001b[0m\u001b[0;34m(\u001b[0m\u001b[0mself\u001b[0m\u001b[0;34m,\u001b[0m \u001b[0mkey\u001b[0m\u001b[0;34m,\u001b[0m \u001b[0mvalue\u001b[0m\u001b[0;34m)\u001b[0m\u001b[0;34m:\u001b[0m\u001b[0;34m\u001b[0m\u001b[0m\n\u001b[0;32m-> 2065\u001b[0;31m         \u001b[0;32mraise\u001b[0m \u001b[0mTypeError\u001b[0m\u001b[0;34m(\u001b[0m\u001b[0;34m\"Index does not support mutable operations\"\u001b[0m\u001b[0;34m)\u001b[0m\u001b[0;34m\u001b[0m\u001b[0m\n\u001b[0m\u001b[1;32m   2066\u001b[0m \u001b[0;34m\u001b[0m\u001b[0m\n\u001b[1;32m   2067\u001b[0m     \u001b[0;32mdef\u001b[0m \u001b[0m__getitem__\u001b[0m\u001b[0;34m(\u001b[0m\u001b[0mself\u001b[0m\u001b[0;34m,\u001b[0m \u001b[0mkey\u001b[0m\u001b[0;34m)\u001b[0m\u001b[0;34m:\u001b[0m\u001b[0;34m\u001b[0m\u001b[0m\n",
      "\u001b[0;31mTypeError\u001b[0m: Index does not support mutable operations"
     ]
    }
   ],
   "source": [
    "dummy.columns[0] = ['Isolate']"
   ]
  },
  {
   "cell_type": "code",
   "execution_count": 45,
   "metadata": {},
   "outputs": [],
   "source": [
    "dummy = dummy.rename(columns = {'Ioslate': 'Isolate'})"
   ]
  },
  {
   "cell_type": "code",
   "execution_count": 46,
   "metadata": {},
   "outputs": [
    {
     "data": {
      "text/plain": [
       "Index(['Isolate', 'MLST_A', 'MLST_B'], dtype='object')"
      ]
     },
     "execution_count": 46,
     "metadata": {},
     "output_type": "execute_result"
    }
   ],
   "source": [
    "dummy.columns"
   ]
  },
  {
   "cell_type": "markdown",
   "metadata": {},
   "source": [
    "### Rows / Index\n",
    "\n",
    "You can set the index of the dataframe to be a particular column if you like... Personally I don't see any advantage to this - since if you would like to subset based on values in a particular column this can be easily achieved with subsetting and slicing.\n",
    "\n",
    "### Basic subsetting\n",
    "\n",
    "Pandas dataframes can be subsetted and sliced in many many ways.. \n",
    "\n",
    "A single column - give the name of the column"
   ]
  },
  {
   "cell_type": "code",
   "execution_count": 49,
   "metadata": {},
   "outputs": [
    {
     "data": {
      "text/plain": [
       "0    VGT9N5\n",
       "1    U3IZ39\n",
       "2    H7YRGD\n",
       "3    PBGMLI\n",
       "4    RM3OA4\n",
       "Name: Isolate, dtype: object"
      ]
     },
     "execution_count": 49,
     "metadata": {},
     "output_type": "execute_result"
    }
   ],
   "source": [
    "dummy['Isolate'].head() # select all values in a column = this is called a series (it is a different type of object to a list)"
   ]
  },
  {
   "cell_type": "markdown",
   "metadata": {},
   "source": [
    "Multiple columns - Give a list of columns"
   ]
  },
  {
   "cell_type": "code",
   "execution_count": 55,
   "metadata": {},
   "outputs": [
    {
     "data": {
      "text/html": [
       "<div>\n",
       "<style scoped>\n",
       "    .dataframe tbody tr th:only-of-type {\n",
       "        vertical-align: middle;\n",
       "    }\n",
       "\n",
       "    .dataframe tbody tr th {\n",
       "        vertical-align: top;\n",
       "    }\n",
       "\n",
       "    .dataframe thead th {\n",
       "        text-align: right;\n",
       "    }\n",
       "</style>\n",
       "<table border=\"1\" class=\"dataframe\">\n",
       "  <thead>\n",
       "    <tr style=\"text-align: right;\">\n",
       "      <th></th>\n",
       "      <th>Isolate</th>\n",
       "      <th>MLST_A</th>\n",
       "    </tr>\n",
       "  </thead>\n",
       "  <tbody>\n",
       "    <tr>\n",
       "      <th>0</th>\n",
       "      <td>VGT9N5</td>\n",
       "      <td>-</td>\n",
       "    </tr>\n",
       "    <tr>\n",
       "      <th>1</th>\n",
       "      <td>U3IZ39</td>\n",
       "      <td>11</td>\n",
       "    </tr>\n",
       "    <tr>\n",
       "      <th>2</th>\n",
       "      <td>H7YRGD</td>\n",
       "      <td>213</td>\n",
       "    </tr>\n",
       "    <tr>\n",
       "      <th>3</th>\n",
       "      <td>PBGMLI</td>\n",
       "      <td>43</td>\n",
       "    </tr>\n",
       "    <tr>\n",
       "      <th>4</th>\n",
       "      <td>RM3OA4</td>\n",
       "      <td>7808</td>\n",
       "    </tr>\n",
       "  </tbody>\n",
       "</table>\n",
       "</div>"
      ],
      "text/plain": [
       "  Isolate MLST_A\n",
       "0  VGT9N5      -\n",
       "1  U3IZ39     11\n",
       "2  H7YRGD    213\n",
       "3  PBGMLI     43\n",
       "4  RM3OA4   7808"
      ]
     },
     "execution_count": 55,
     "metadata": {},
     "output_type": "execute_result"
    }
   ],
   "source": [
    "dummy[['Isolate', 'MLST_A']].head()"
   ]
  },
  {
   "cell_type": "markdown",
   "metadata": {},
   "source": [
    "Select the whole row based on a column value - give the name of the column and the value to select"
   ]
  },
  {
   "cell_type": "code",
   "execution_count": 50,
   "metadata": {},
   "outputs": [
    {
     "data": {
      "text/html": [
       "<div>\n",
       "<style scoped>\n",
       "    .dataframe tbody tr th:only-of-type {\n",
       "        vertical-align: middle;\n",
       "    }\n",
       "\n",
       "    .dataframe tbody tr th {\n",
       "        vertical-align: top;\n",
       "    }\n",
       "\n",
       "    .dataframe thead th {\n",
       "        text-align: right;\n",
       "    }\n",
       "</style>\n",
       "<table border=\"1\" class=\"dataframe\">\n",
       "  <thead>\n",
       "    <tr style=\"text-align: right;\">\n",
       "      <th></th>\n",
       "      <th>Isolate</th>\n",
       "      <th>MLST_A</th>\n",
       "      <th>MLST_B</th>\n",
       "    </tr>\n",
       "  </thead>\n",
       "  <tbody>\n",
       "    <tr>\n",
       "      <th>4</th>\n",
       "      <td>RM3OA4</td>\n",
       "      <td>7808</td>\n",
       "      <td>NaN</td>\n",
       "    </tr>\n",
       "  </tbody>\n",
       "</table>\n",
       "</div>"
      ],
      "text/plain": [
       "  Isolate MLST_A MLST_B\n",
       "4  RM3OA4   7808    NaN"
      ]
     },
     "execution_count": 50,
     "metadata": {},
     "output_type": "execute_result"
    }
   ],
   "source": [
    "dummy[dummy['Isolate'] == 'RM3OA4'] # returns a dataframe with only one row"
   ]
  },
  {
   "cell_type": "markdown",
   "metadata": {},
   "source": [
    "Get the value of a cell, ie where an Isolate is of interest and the value of a single colum is needed use `.loc`. "
   ]
  },
  {
   "cell_type": "code",
   "execution_count": 57,
   "metadata": {},
   "outputs": [
    {
     "data": {
      "text/plain": [
       "4    7808\n",
       "Name: MLST_A, dtype: object"
      ]
     },
     "execution_count": 57,
     "metadata": {},
     "output_type": "execute_result"
    }
   ],
   "source": [
    "dummy.loc[dummy['Isolate'] == 'RM3OA4', 'MLST_A'] # returns a dataframe with only one row"
   ]
  },
  {
   "cell_type": "markdown",
   "metadata": {},
   "source": [
    "### `.loc` vs `.iloc`\n",
    "\n",
    "`.loc` is used when wanting to select based on the name of something, whereas `.iloc` is used if you want to find things based on the index number."
   ]
  },
  {
   "cell_type": "code",
   "execution_count": 58,
   "metadata": {},
   "outputs": [
    {
     "data": {
      "text/plain": [
       "'11'"
      ]
     },
     "execution_count": 58,
     "metadata": {},
     "output_type": "execute_result"
    }
   ],
   "source": [
    "dummy.iloc[1, 1]"
   ]
  },
  {
   "cell_type": "code",
   "execution_count": 62,
   "metadata": {},
   "outputs": [
    {
     "data": {
      "text/html": [
       "<div>\n",
       "<style scoped>\n",
       "    .dataframe tbody tr th:only-of-type {\n",
       "        vertical-align: middle;\n",
       "    }\n",
       "\n",
       "    .dataframe tbody tr th {\n",
       "        vertical-align: top;\n",
       "    }\n",
       "\n",
       "    .dataframe thead th {\n",
       "        text-align: right;\n",
       "    }\n",
       "</style>\n",
       "<table border=\"1\" class=\"dataframe\">\n",
       "  <thead>\n",
       "    <tr style=\"text-align: right;\">\n",
       "      <th></th>\n",
       "      <th>Isolate</th>\n",
       "      <th>MLST_A</th>\n",
       "      <th>MLST_B</th>\n",
       "    </tr>\n",
       "  </thead>\n",
       "  <tbody>\n",
       "    <tr>\n",
       "      <th>0</th>\n",
       "      <td>VGT9N5</td>\n",
       "      <td>-</td>\n",
       "      <td>NaN</td>\n",
       "    </tr>\n",
       "    <tr>\n",
       "      <th>1</th>\n",
       "      <td>U3IZ39</td>\n",
       "      <td>11</td>\n",
       "      <td>NaN</td>\n",
       "    </tr>\n",
       "    <tr>\n",
       "      <th>2</th>\n",
       "      <td>H7YRGD</td>\n",
       "      <td>213</td>\n",
       "      <td>NaN</td>\n",
       "    </tr>\n",
       "    <tr>\n",
       "      <th>3</th>\n",
       "      <td>PBGMLI</td>\n",
       "      <td>43</td>\n",
       "      <td>NaN</td>\n",
       "    </tr>\n",
       "    <tr>\n",
       "      <th>4</th>\n",
       "      <td>RM3OA4</td>\n",
       "      <td>7808</td>\n",
       "      <td>NaN</td>\n",
       "    </tr>\n",
       "    <tr>\n",
       "      <th>5</th>\n",
       "      <td>8VX6ZD</td>\n",
       "      <td>6058</td>\n",
       "      <td>NaN</td>\n",
       "    </tr>\n",
       "    <tr>\n",
       "      <th>6</th>\n",
       "      <td>T11YGO</td>\n",
       "      <td>1214</td>\n",
       "      <td>NaN</td>\n",
       "    </tr>\n",
       "    <tr>\n",
       "      <th>7</th>\n",
       "      <td>OZFKTG</td>\n",
       "      <td>10001</td>\n",
       "      <td>NaN</td>\n",
       "    </tr>\n",
       "    <tr>\n",
       "      <th>8</th>\n",
       "      <td>H5EC9P</td>\n",
       "      <td>32</td>\n",
       "      <td>NaN</td>\n",
       "    </tr>\n",
       "    <tr>\n",
       "      <th>9</th>\n",
       "      <td>Y2BKCQ</td>\n",
       "      <td>114</td>\n",
       "      <td>NaN</td>\n",
       "    </tr>\n",
       "  </tbody>\n",
       "</table>\n",
       "</div>"
      ],
      "text/plain": [
       "  Isolate MLST_A MLST_B\n",
       "0  VGT9N5      -    NaN\n",
       "1  U3IZ39     11    NaN\n",
       "2  H7YRGD    213    NaN\n",
       "3  PBGMLI     43    NaN\n",
       "4  RM3OA4   7808    NaN\n",
       "5  8VX6ZD   6058    NaN\n",
       "6  T11YGO   1214    NaN\n",
       "7  OZFKTG  10001    NaN\n",
       "8  H5EC9P     32    NaN\n",
       "9  Y2BKCQ    114    NaN"
      ]
     },
     "execution_count": 62,
     "metadata": {},
     "output_type": "execute_result"
    }
   ],
   "source": [
    "dummy.iloc[:10, :]"
   ]
  },
  {
   "cell_type": "markdown",
   "metadata": {},
   "source": [
    "### Handling missing data\n",
    "\n",
    "Often you will get a dataset that for some reason has missing information. It is important to understand how much is 'missing'. But also depending on what this means or how you need it to be represented for your particular purpose you may need to replace these missing values with something that is either meaningful to you or won't break any calculations that you want to make."
   ]
  },
  {
   "cell_type": "markdown",
   "metadata": {},
   "source": [
    "### Counting NaN\n",
    "\n",
    "In a pandas dataframe, missing data is often represented as `NaN`. It is important to remember that this will occur if the particular 'cell' had NO DATA in it OR if the data/text there was recognised as an `NaN`. However, sometimes the missing data is represented as a string of some sort. "
   ]
  },
  {
   "cell_type": "code",
   "execution_count": 63,
   "metadata": {},
   "outputs": [
    {
     "data": {
      "text/plain": [
       "214"
      ]
     },
     "execution_count": 63,
     "metadata": {},
     "output_type": "execute_result"
    }
   ],
   "source": [
    "dummy['MLST_B'].isna().sum()"
   ]
  },
  {
   "cell_type": "code",
   "execution_count": 64,
   "metadata": {},
   "outputs": [
    {
     "data": {
      "text/plain": [
       "19"
      ]
     },
     "execution_count": 64,
     "metadata": {},
     "output_type": "execute_result"
    }
   ],
   "source": [
    "dummy['MLST_A'].str.match('-').sum()"
   ]
  },
  {
   "cell_type": "markdown",
   "metadata": {},
   "source": [
    "### Detect datatype of a column\n",
    "\n",
    "`.isna()` will return `True` when the content of a cell is some representation of `NA`. If the original data was empty, this will be represented as a `numpy.NaN`.  However, characters such as an empty string ('') will be reported and `False`. So it can sometimes be helpful to know what types of data you are working with in order to figure out what your 'missing values' might look like."
   ]
  },
  {
   "cell_type": "code",
   "execution_count": 76,
   "metadata": {},
   "outputs": [
    {
     "data": {
      "text/plain": [
       "dtype('O')"
      ]
     },
     "execution_count": 76,
     "metadata": {},
     "output_type": "execute_result"
    }
   ],
   "source": [
    "dummy['MLST_B'].dtypes # O is object - which means that the column contains strings"
   ]
  },
  {
   "cell_type": "markdown",
   "metadata": {},
   "source": [
    "### Replacing data - missing values\n",
    "If you have actual `NaN` then you can use the `.fillna()` function"
   ]
  },
  {
   "cell_type": "code",
   "execution_count": 77,
   "metadata": {},
   "outputs": [],
   "source": [
    "dummy = dummy.fillna({'MLST_B':'No MLST'})"
   ]
  },
  {
   "cell_type": "code",
   "execution_count": 79,
   "metadata": {},
   "outputs": [
    {
     "data": {
      "text/html": [
       "<div>\n",
       "<style scoped>\n",
       "    .dataframe tbody tr th:only-of-type {\n",
       "        vertical-align: middle;\n",
       "    }\n",
       "\n",
       "    .dataframe tbody tr th {\n",
       "        vertical-align: top;\n",
       "    }\n",
       "\n",
       "    .dataframe thead th {\n",
       "        text-align: right;\n",
       "    }\n",
       "</style>\n",
       "<table border=\"1\" class=\"dataframe\">\n",
       "  <thead>\n",
       "    <tr style=\"text-align: right;\">\n",
       "      <th></th>\n",
       "      <th>Isolate</th>\n",
       "      <th>MLST_A</th>\n",
       "      <th>MLST_B</th>\n",
       "    </tr>\n",
       "  </thead>\n",
       "  <tbody>\n",
       "    <tr>\n",
       "      <th>0</th>\n",
       "      <td>VGT9N5</td>\n",
       "      <td>-</td>\n",
       "      <td>No MLST</td>\n",
       "    </tr>\n",
       "    <tr>\n",
       "      <th>1</th>\n",
       "      <td>U3IZ39</td>\n",
       "      <td>11</td>\n",
       "      <td>No MLST</td>\n",
       "    </tr>\n",
       "    <tr>\n",
       "      <th>2</th>\n",
       "      <td>H7YRGD</td>\n",
       "      <td>213</td>\n",
       "      <td>No MLST</td>\n",
       "    </tr>\n",
       "    <tr>\n",
       "      <th>3</th>\n",
       "      <td>PBGMLI</td>\n",
       "      <td>43</td>\n",
       "      <td>No MLST</td>\n",
       "    </tr>\n",
       "    <tr>\n",
       "      <th>4</th>\n",
       "      <td>RM3OA4</td>\n",
       "      <td>7808</td>\n",
       "      <td>No MLST</td>\n",
       "    </tr>\n",
       "  </tbody>\n",
       "</table>\n",
       "</div>"
      ],
      "text/plain": [
       "  Isolate MLST_A   MLST_B\n",
       "0  VGT9N5      -  No MLST\n",
       "1  U3IZ39     11  No MLST\n",
       "2  H7YRGD    213  No MLST\n",
       "3  PBGMLI     43  No MLST\n",
       "4  RM3OA4   7808  No MLST"
      ]
     },
     "execution_count": 79,
     "metadata": {},
     "output_type": "execute_result"
    }
   ],
   "source": [
    "dummy.head()"
   ]
  },
  {
   "cell_type": "markdown",
   "metadata": {},
   "source": [
    "But if the 'missing value' is represented in some other way you can use either `replace` or `str.replace` (depending on the situation"
   ]
  },
  {
   "cell_type": "code",
   "execution_count": 80,
   "metadata": {},
   "outputs": [],
   "source": [
    "dummy['MLST_A'] = dummy['MLST_A'].replace('-', 'No MLST')"
   ]
  },
  {
   "cell_type": "code",
   "execution_count": 82,
   "metadata": {},
   "outputs": [
    {
     "data": {
      "text/html": [
       "<div>\n",
       "<style scoped>\n",
       "    .dataframe tbody tr th:only-of-type {\n",
       "        vertical-align: middle;\n",
       "    }\n",
       "\n",
       "    .dataframe tbody tr th {\n",
       "        vertical-align: top;\n",
       "    }\n",
       "\n",
       "    .dataframe thead th {\n",
       "        text-align: right;\n",
       "    }\n",
       "</style>\n",
       "<table border=\"1\" class=\"dataframe\">\n",
       "  <thead>\n",
       "    <tr style=\"text-align: right;\">\n",
       "      <th></th>\n",
       "      <th>Isolate</th>\n",
       "      <th>MLST_A</th>\n",
       "      <th>MLST_B</th>\n",
       "    </tr>\n",
       "  </thead>\n",
       "  <tbody>\n",
       "    <tr>\n",
       "      <th>0</th>\n",
       "      <td>VGT9N5</td>\n",
       "      <td>No MLST</td>\n",
       "      <td>No MLST</td>\n",
       "    </tr>\n",
       "    <tr>\n",
       "      <th>1</th>\n",
       "      <td>U3IZ39</td>\n",
       "      <td>11</td>\n",
       "      <td>No MLST</td>\n",
       "    </tr>\n",
       "    <tr>\n",
       "      <th>2</th>\n",
       "      <td>H7YRGD</td>\n",
       "      <td>213</td>\n",
       "      <td>No MLST</td>\n",
       "    </tr>\n",
       "    <tr>\n",
       "      <th>3</th>\n",
       "      <td>PBGMLI</td>\n",
       "      <td>43</td>\n",
       "      <td>No MLST</td>\n",
       "    </tr>\n",
       "    <tr>\n",
       "      <th>4</th>\n",
       "      <td>RM3OA4</td>\n",
       "      <td>7808</td>\n",
       "      <td>No MLST</td>\n",
       "    </tr>\n",
       "  </tbody>\n",
       "</table>\n",
       "</div>"
      ],
      "text/plain": [
       "  Isolate   MLST_A   MLST_B\n",
       "0  VGT9N5  No MLST  No MLST\n",
       "1  U3IZ39       11  No MLST\n",
       "2  H7YRGD      213  No MLST\n",
       "3  PBGMLI       43  No MLST\n",
       "4  RM3OA4     7808  No MLST"
      ]
     },
     "execution_count": 82,
     "metadata": {},
     "output_type": "execute_result"
    }
   ],
   "source": [
    "dummy.head()"
   ]
  },
  {
   "cell_type": "markdown",
   "metadata": {},
   "source": [
    "### Merging\n",
    "\n",
    "You will often have a situation where there is a results table and you then get some sort of metadata in a separate table (hopefully with matching sample identifiers) that you will need to merge with your results. This is a relatively simple process in itself, the difficulties often arise in the cleaning up of the data so that there is some common key to work with."
   ]
  },
  {
   "cell_type": "code",
   "execution_count": 93,
   "metadata": {},
   "outputs": [
    {
     "data": {
      "text/html": [
       "<div>\n",
       "<style scoped>\n",
       "    .dataframe tbody tr th:only-of-type {\n",
       "        vertical-align: middle;\n",
       "    }\n",
       "\n",
       "    .dataframe tbody tr th {\n",
       "        vertical-align: top;\n",
       "    }\n",
       "\n",
       "    .dataframe thead th {\n",
       "        text-align: right;\n",
       "    }\n",
       "</style>\n",
       "<table border=\"1\" class=\"dataframe\">\n",
       "  <thead>\n",
       "    <tr style=\"text-align: right;\">\n",
       "      <th></th>\n",
       "      <th>Isolate</th>\n",
       "      <th>Contigs</th>\n",
       "      <th>bp</th>\n",
       "    </tr>\n",
       "  </thead>\n",
       "  <tbody>\n",
       "    <tr>\n",
       "      <th>0</th>\n",
       "      <td>VGT9N5.ext</td>\n",
       "      <td>164</td>\n",
       "      <td>3366017</td>\n",
       "    </tr>\n",
       "    <tr>\n",
       "      <th>1</th>\n",
       "      <td>U3IZ39.ext</td>\n",
       "      <td>332</td>\n",
       "      <td>2111595</td>\n",
       "    </tr>\n",
       "    <tr>\n",
       "      <th>2</th>\n",
       "      <td>H7YRGD.ext</td>\n",
       "      <td>275</td>\n",
       "      <td>2212398</td>\n",
       "    </tr>\n",
       "    <tr>\n",
       "      <th>3</th>\n",
       "      <td>PBGMLI.ext</td>\n",
       "      <td>133</td>\n",
       "      <td>2095495</td>\n",
       "    </tr>\n",
       "    <tr>\n",
       "      <th>4</th>\n",
       "      <td>RM3OA4.ext</td>\n",
       "      <td>184</td>\n",
       "      <td>2182253</td>\n",
       "    </tr>\n",
       "  </tbody>\n",
       "</table>\n",
       "</div>"
      ],
      "text/plain": [
       "      Isolate  Contigs       bp\n",
       "0  VGT9N5.ext      164  3366017\n",
       "1  U3IZ39.ext      332  2111595\n",
       "2  H7YRGD.ext      275  2212398\n",
       "3  PBGMLI.ext      133  2095495\n",
       "4  RM3OA4.ext      184  2182253"
      ]
     },
     "execution_count": 93,
     "metadata": {},
     "output_type": "execute_result"
    }
   ],
   "source": [
    "metadata = pandas.read_csv('pandas/metadata.tab', sep = '\\t')\n",
    "metadata.head()"
   ]
  },
  {
   "cell_type": "code",
   "execution_count": 95,
   "metadata": {},
   "outputs": [
    {
     "data": {
      "text/plain": [
       "Isolate    object\n",
       "Contigs     int64\n",
       "bp          int64\n",
       "dtype: object"
      ]
     },
     "execution_count": 95,
     "metadata": {},
     "output_type": "execute_result"
    }
   ],
   "source": [
    "metadata.dtypes"
   ]
  },
  {
   "cell_type": "code",
   "execution_count": 96,
   "metadata": {},
   "outputs": [
    {
     "data": {
      "text/plain": [
       "0"
      ]
     },
     "execution_count": 96,
     "metadata": {},
     "output_type": "execute_result"
    }
   ],
   "source": [
    "metadata['Contigs'].isna().sum()"
   ]
  },
  {
   "cell_type": "code",
   "execution_count": 97,
   "metadata": {},
   "outputs": [
    {
     "data": {
      "text/plain": [
       "(274, 3)"
      ]
     },
     "execution_count": 97,
     "metadata": {},
     "output_type": "execute_result"
    }
   ],
   "source": [
    "metadata.shape"
   ]
  },
  {
   "cell_type": "markdown",
   "metadata": {},
   "source": [
    "### `apply`\n",
    "If you want to edit a whole dataframe, a single column or even add a column dependent on some condition the `apply` function is a reliable workhorse"
   ]
  },
  {
   "cell_type": "code",
   "execution_count": 98,
   "metadata": {},
   "outputs": [],
   "source": [
    "metadata['Isolate'] = metadata['Isolate'].apply(lambda x: x.strip('.ext'))"
   ]
  },
  {
   "cell_type": "code",
   "execution_count": 100,
   "metadata": {},
   "outputs": [
    {
     "data": {
      "text/html": [
       "<div>\n",
       "<style scoped>\n",
       "    .dataframe tbody tr th:only-of-type {\n",
       "        vertical-align: middle;\n",
       "    }\n",
       "\n",
       "    .dataframe tbody tr th {\n",
       "        vertical-align: top;\n",
       "    }\n",
       "\n",
       "    .dataframe thead th {\n",
       "        text-align: right;\n",
       "    }\n",
       "</style>\n",
       "<table border=\"1\" class=\"dataframe\">\n",
       "  <thead>\n",
       "    <tr style=\"text-align: right;\">\n",
       "      <th></th>\n",
       "      <th>Isolate</th>\n",
       "      <th>Contigs</th>\n",
       "      <th>bp</th>\n",
       "    </tr>\n",
       "  </thead>\n",
       "  <tbody>\n",
       "    <tr>\n",
       "      <th>0</th>\n",
       "      <td>VGT9N5</td>\n",
       "      <td>164</td>\n",
       "      <td>3366017</td>\n",
       "    </tr>\n",
       "    <tr>\n",
       "      <th>1</th>\n",
       "      <td>U3IZ39</td>\n",
       "      <td>332</td>\n",
       "      <td>2111595</td>\n",
       "    </tr>\n",
       "    <tr>\n",
       "      <th>2</th>\n",
       "      <td>H7YRGD</td>\n",
       "      <td>275</td>\n",
       "      <td>2212398</td>\n",
       "    </tr>\n",
       "    <tr>\n",
       "      <th>3</th>\n",
       "      <td>PBGMLI</td>\n",
       "      <td>133</td>\n",
       "      <td>2095495</td>\n",
       "    </tr>\n",
       "    <tr>\n",
       "      <th>4</th>\n",
       "      <td>RM3OA4</td>\n",
       "      <td>184</td>\n",
       "      <td>2182253</td>\n",
       "    </tr>\n",
       "  </tbody>\n",
       "</table>\n",
       "</div>"
      ],
      "text/plain": [
       "  Isolate  Contigs       bp\n",
       "0  VGT9N5      164  3366017\n",
       "1  U3IZ39      332  2111595\n",
       "2  H7YRGD      275  2212398\n",
       "3  PBGMLI      133  2095495\n",
       "4  RM3OA4      184  2182253"
      ]
     },
     "execution_count": 100,
     "metadata": {},
     "output_type": "execute_result"
    }
   ],
   "source": [
    "metadata.head()"
   ]
  },
  {
   "cell_type": "code",
   "execution_count": 101,
   "metadata": {},
   "outputs": [],
   "source": [
    "combined = pandas.merge(left = dummy, right = metadata, how = 'inner', on = 'Isolate')"
   ]
  },
  {
   "cell_type": "code",
   "execution_count": 103,
   "metadata": {},
   "outputs": [
    {
     "data": {
      "text/html": [
       "<div>\n",
       "<style scoped>\n",
       "    .dataframe tbody tr th:only-of-type {\n",
       "        vertical-align: middle;\n",
       "    }\n",
       "\n",
       "    .dataframe tbody tr th {\n",
       "        vertical-align: top;\n",
       "    }\n",
       "\n",
       "    .dataframe thead th {\n",
       "        text-align: right;\n",
       "    }\n",
       "</style>\n",
       "<table border=\"1\" class=\"dataframe\">\n",
       "  <thead>\n",
       "    <tr style=\"text-align: right;\">\n",
       "      <th></th>\n",
       "      <th>Isolate</th>\n",
       "      <th>MLST_A</th>\n",
       "      <th>MLST_B</th>\n",
       "      <th>Contigs</th>\n",
       "      <th>bp</th>\n",
       "    </tr>\n",
       "  </thead>\n",
       "  <tbody>\n",
       "    <tr>\n",
       "      <th>0</th>\n",
       "      <td>VGT9N5</td>\n",
       "      <td>No MLST</td>\n",
       "      <td>No MLST</td>\n",
       "      <td>164</td>\n",
       "      <td>3366017</td>\n",
       "    </tr>\n",
       "    <tr>\n",
       "      <th>1</th>\n",
       "      <td>U3IZ39</td>\n",
       "      <td>11</td>\n",
       "      <td>No MLST</td>\n",
       "      <td>332</td>\n",
       "      <td>2111595</td>\n",
       "    </tr>\n",
       "    <tr>\n",
       "      <th>2</th>\n",
       "      <td>H7YRGD</td>\n",
       "      <td>213</td>\n",
       "      <td>No MLST</td>\n",
       "      <td>275</td>\n",
       "      <td>2212398</td>\n",
       "    </tr>\n",
       "    <tr>\n",
       "      <th>3</th>\n",
       "      <td>PBGMLI</td>\n",
       "      <td>43</td>\n",
       "      <td>No MLST</td>\n",
       "      <td>133</td>\n",
       "      <td>2095495</td>\n",
       "    </tr>\n",
       "    <tr>\n",
       "      <th>4</th>\n",
       "      <td>RM3OA4</td>\n",
       "      <td>7808</td>\n",
       "      <td>No MLST</td>\n",
       "      <td>184</td>\n",
       "      <td>2182253</td>\n",
       "    </tr>\n",
       "  </tbody>\n",
       "</table>\n",
       "</div>"
      ],
      "text/plain": [
       "  Isolate   MLST_A   MLST_B  Contigs       bp\n",
       "0  VGT9N5  No MLST  No MLST      164  3366017\n",
       "1  U3IZ39       11  No MLST      332  2111595\n",
       "2  H7YRGD      213  No MLST      275  2212398\n",
       "3  PBGMLI       43  No MLST      133  2095495\n",
       "4  RM3OA4     7808  No MLST      184  2182253"
      ]
     },
     "execution_count": 103,
     "metadata": {},
     "output_type": "execute_result"
    }
   ],
   "source": [
    "combined.head()"
   ]
  },
  {
   "cell_type": "markdown",
   "metadata": {},
   "source": [
    "### Saving"
   ]
  },
  {
   "cell_type": "code",
   "execution_count": 113,
   "metadata": {},
   "outputs": [],
   "source": [
    "combined.to_csv('pandas/combined.txt', sep = '\\t', index = False)"
   ]
  },
  {
   "cell_type": "markdown",
   "metadata": {},
   "source": [
    "### Other things that I thought of ..."
   ]
  },
  {
   "cell_type": "code",
   "execution_count": 104,
   "metadata": {},
   "outputs": [
    {
     "data": {
      "text/html": [
       "<div>\n",
       "<style scoped>\n",
       "    .dataframe tbody tr th:only-of-type {\n",
       "        vertical-align: middle;\n",
       "    }\n",
       "\n",
       "    .dataframe tbody tr th {\n",
       "        vertical-align: top;\n",
       "    }\n",
       "\n",
       "    .dataframe thead th {\n",
       "        text-align: right;\n",
       "    }\n",
       "</style>\n",
       "<table border=\"1\" class=\"dataframe\">\n",
       "  <thead>\n",
       "    <tr style=\"text-align: right;\">\n",
       "      <th></th>\n",
       "      <th>Isolate</th>\n",
       "      <th>MLST_A</th>\n",
       "      <th>MLST_B</th>\n",
       "      <th>Contigs</th>\n",
       "      <th>bp</th>\n",
       "    </tr>\n",
       "  </thead>\n",
       "  <tbody>\n",
       "    <tr>\n",
       "      <th>136</th>\n",
       "      <td>LAKODL</td>\n",
       "      <td>No MLST</td>\n",
       "      <td>No MLST</td>\n",
       "      <td>35</td>\n",
       "      <td>2919188</td>\n",
       "    </tr>\n",
       "    <tr>\n",
       "      <th>137</th>\n",
       "      <td>J9U3SJ</td>\n",
       "      <td>No MLST</td>\n",
       "      <td>No MLST</td>\n",
       "      <td>99</td>\n",
       "      <td>4901360</td>\n",
       "    </tr>\n",
       "    <tr>\n",
       "      <th>151</th>\n",
       "      <td>2NUFAM</td>\n",
       "      <td>No MLST</td>\n",
       "      <td>No MLST</td>\n",
       "      <td>41</td>\n",
       "      <td>1725198</td>\n",
       "    </tr>\n",
       "    <tr>\n",
       "      <th>155</th>\n",
       "      <td>HBHH8E</td>\n",
       "      <td>No MLST</td>\n",
       "      <td>No MLST</td>\n",
       "      <td>68</td>\n",
       "      <td>1822955</td>\n",
       "    </tr>\n",
       "    <tr>\n",
       "      <th>175</th>\n",
       "      <td>ITYSO9</td>\n",
       "      <td>No MLST</td>\n",
       "      <td>No MLST</td>\n",
       "      <td>95</td>\n",
       "      <td>6965106</td>\n",
       "    </tr>\n",
       "    <tr>\n",
       "      <th>273</th>\n",
       "      <td>47Z47X</td>\n",
       "      <td>No MLST</td>\n",
       "      <td>No MLST</td>\n",
       "      <td>1</td>\n",
       "      <td>4411532</td>\n",
       "    </tr>\n",
       "  </tbody>\n",
       "</table>\n",
       "</div>"
      ],
      "text/plain": [
       "    Isolate   MLST_A   MLST_B  Contigs       bp\n",
       "136  LAKODL  No MLST  No MLST       35  2919188\n",
       "137  J9U3SJ  No MLST  No MLST       99  4901360\n",
       "151  2NUFAM  No MLST  No MLST       41  1725198\n",
       "155  HBHH8E  No MLST  No MLST       68  1822955\n",
       "175  ITYSO9  No MLST  No MLST       95  6965106\n",
       "273  47Z47X  No MLST  No MLST        1  4411532"
      ]
     },
     "execution_count": 104,
     "metadata": {},
     "output_type": "execute_result"
    }
   ],
   "source": [
    "combined[combined['Contigs'] < 100]"
   ]
  },
  {
   "cell_type": "code",
   "execution_count": 109,
   "metadata": {},
   "outputs": [
    {
     "data": {
      "text/html": [
       "<div>\n",
       "<style scoped>\n",
       "    .dataframe tbody tr th:only-of-type {\n",
       "        vertical-align: middle;\n",
       "    }\n",
       "\n",
       "    .dataframe tbody tr th {\n",
       "        vertical-align: top;\n",
       "    }\n",
       "\n",
       "    .dataframe thead th {\n",
       "        text-align: right;\n",
       "    }\n",
       "</style>\n",
       "<table border=\"1\" class=\"dataframe\">\n",
       "  <thead>\n",
       "    <tr style=\"text-align: right;\">\n",
       "      <th></th>\n",
       "      <th>Isolate</th>\n",
       "      <th>MLST_A</th>\n",
       "      <th>MLST_B</th>\n",
       "      <th>Contigs</th>\n",
       "      <th>bp</th>\n",
       "    </tr>\n",
       "  </thead>\n",
       "  <tbody>\n",
       "    <tr>\n",
       "      <th>1</th>\n",
       "      <td>U3IZ39</td>\n",
       "      <td>11</td>\n",
       "      <td>No MLST</td>\n",
       "      <td>332</td>\n",
       "      <td>2111595</td>\n",
       "    </tr>\n",
       "    <tr>\n",
       "      <th>6</th>\n",
       "      <td>T11YGO</td>\n",
       "      <td>1214</td>\n",
       "      <td>No MLST</td>\n",
       "      <td>1153</td>\n",
       "      <td>2174427</td>\n",
       "    </tr>\n",
       "    <tr>\n",
       "      <th>67</th>\n",
       "      <td>165CPD</td>\n",
       "      <td>1281</td>\n",
       "      <td>No MLST</td>\n",
       "      <td>576</td>\n",
       "      <td>2207227</td>\n",
       "    </tr>\n",
       "    <tr>\n",
       "      <th>123</th>\n",
       "      <td>F0L894</td>\n",
       "      <td>213</td>\n",
       "      <td>No MLST</td>\n",
       "      <td>303</td>\n",
       "      <td>2197685</td>\n",
       "    </tr>\n",
       "    <tr>\n",
       "      <th>134</th>\n",
       "      <td>4ZXGTL</td>\n",
       "      <td>184</td>\n",
       "      <td>184</td>\n",
       "      <td>569</td>\n",
       "      <td>2204001</td>\n",
       "    </tr>\n",
       "    <tr>\n",
       "      <th>135</th>\n",
       "      <td>CKTCXR</td>\n",
       "      <td>184</td>\n",
       "      <td>184</td>\n",
       "      <td>597</td>\n",
       "      <td>2207457</td>\n",
       "    </tr>\n",
       "    <tr>\n",
       "      <th>138</th>\n",
       "      <td>NG0HH6</td>\n",
       "      <td>11</td>\n",
       "      <td>11</td>\n",
       "      <td>401</td>\n",
       "      <td>2108817</td>\n",
       "    </tr>\n",
       "    <tr>\n",
       "      <th>139</th>\n",
       "      <td>DHKXVT</td>\n",
       "      <td>12004</td>\n",
       "      <td>new</td>\n",
       "      <td>700</td>\n",
       "      <td>2224354</td>\n",
       "    </tr>\n",
       "    <tr>\n",
       "      <th>140</th>\n",
       "      <td>66I49J</td>\n",
       "      <td>22</td>\n",
       "      <td>No MLST</td>\n",
       "      <td>1664</td>\n",
       "      <td>2233879</td>\n",
       "    </tr>\n",
       "    <tr>\n",
       "      <th>143</th>\n",
       "      <td>6LTLD9</td>\n",
       "      <td>22</td>\n",
       "      <td>No MLST</td>\n",
       "      <td>752</td>\n",
       "      <td>2290294</td>\n",
       "    </tr>\n",
       "    <tr>\n",
       "      <th>144</th>\n",
       "      <td>IVG1IB</td>\n",
       "      <td>11</td>\n",
       "      <td>11</td>\n",
       "      <td>371</td>\n",
       "      <td>2108168</td>\n",
       "    </tr>\n",
       "    <tr>\n",
       "      <th>146</th>\n",
       "      <td>RFLTU9</td>\n",
       "      <td>22</td>\n",
       "      <td>22</td>\n",
       "      <td>511</td>\n",
       "      <td>2220797</td>\n",
       "    </tr>\n",
       "    <tr>\n",
       "      <th>147</th>\n",
       "      <td>3M5WZX</td>\n",
       "      <td>11</td>\n",
       "      <td>11</td>\n",
       "      <td>363</td>\n",
       "      <td>2111698</td>\n",
       "    </tr>\n",
       "    <tr>\n",
       "      <th>148</th>\n",
       "      <td>K7SM8W</td>\n",
       "      <td>11</td>\n",
       "      <td>11</td>\n",
       "      <td>355</td>\n",
       "      <td>2106419</td>\n",
       "    </tr>\n",
       "    <tr>\n",
       "      <th>149</th>\n",
       "      <td>GUG9KD</td>\n",
       "      <td>11</td>\n",
       "      <td>11</td>\n",
       "      <td>329</td>\n",
       "      <td>2109461</td>\n",
       "    </tr>\n",
       "    <tr>\n",
       "      <th>150</th>\n",
       "      <td>K8YJER</td>\n",
       "      <td>184</td>\n",
       "      <td>184</td>\n",
       "      <td>580</td>\n",
       "      <td>2210742</td>\n",
       "    </tr>\n",
       "    <tr>\n",
       "      <th>152</th>\n",
       "      <td>YGVG18</td>\n",
       "      <td>11</td>\n",
       "      <td>11</td>\n",
       "      <td>320</td>\n",
       "      <td>2113443</td>\n",
       "    </tr>\n",
       "    <tr>\n",
       "      <th>153</th>\n",
       "      <td>GI8MZY</td>\n",
       "      <td>1655</td>\n",
       "      <td>No MLST</td>\n",
       "      <td>514</td>\n",
       "      <td>2103321</td>\n",
       "    </tr>\n",
       "    <tr>\n",
       "      <th>158</th>\n",
       "      <td>D9B15T</td>\n",
       "      <td>344</td>\n",
       "      <td>No MLST</td>\n",
       "      <td>537</td>\n",
       "      <td>2329933</td>\n",
       "    </tr>\n",
       "    <tr>\n",
       "      <th>163</th>\n",
       "      <td>26G9VX</td>\n",
       "      <td>11</td>\n",
       "      <td>11</td>\n",
       "      <td>383</td>\n",
       "      <td>2097793</td>\n",
       "    </tr>\n",
       "    <tr>\n",
       "      <th>180</th>\n",
       "      <td>I25N0N</td>\n",
       "      <td>22</td>\n",
       "      <td>22</td>\n",
       "      <td>387</td>\n",
       "      <td>2212983</td>\n",
       "    </tr>\n",
       "    <tr>\n",
       "      <th>183</th>\n",
       "      <td>XGIOVX</td>\n",
       "      <td>22</td>\n",
       "      <td>22</td>\n",
       "      <td>355</td>\n",
       "      <td>2219438</td>\n",
       "    </tr>\n",
       "    <tr>\n",
       "      <th>185</th>\n",
       "      <td>VOUJC7</td>\n",
       "      <td>12351</td>\n",
       "      <td>new (ST 11 variant)</td>\n",
       "      <td>1132</td>\n",
       "      <td>2131524</td>\n",
       "    </tr>\n",
       "    <tr>\n",
       "      <th>192</th>\n",
       "      <td>CTT8VU</td>\n",
       "      <td>1655</td>\n",
       "      <td>No MLST</td>\n",
       "      <td>301</td>\n",
       "      <td>2104693</td>\n",
       "    </tr>\n",
       "    <tr>\n",
       "      <th>196</th>\n",
       "      <td>GXMBHI</td>\n",
       "      <td>808</td>\n",
       "      <td>No MLST</td>\n",
       "      <td>316</td>\n",
       "      <td>2173776</td>\n",
       "    </tr>\n",
       "    <tr>\n",
       "      <th>204</th>\n",
       "      <td>W194D0</td>\n",
       "      <td>1655</td>\n",
       "      <td>No MLST</td>\n",
       "      <td>304</td>\n",
       "      <td>2107580</td>\n",
       "    </tr>\n",
       "    <tr>\n",
       "      <th>205</th>\n",
       "      <td>Q6LJ1U</td>\n",
       "      <td>5390</td>\n",
       "      <td>No MLST</td>\n",
       "      <td>301</td>\n",
       "      <td>2218743</td>\n",
       "    </tr>\n",
       "    <tr>\n",
       "      <th>207</th>\n",
       "      <td>2N8S53</td>\n",
       "      <td>11</td>\n",
       "      <td>No MLST</td>\n",
       "      <td>368</td>\n",
       "      <td>2114439</td>\n",
       "    </tr>\n",
       "    <tr>\n",
       "      <th>208</th>\n",
       "      <td>CTGTWG</td>\n",
       "      <td>11</td>\n",
       "      <td>No MLST</td>\n",
       "      <td>346</td>\n",
       "      <td>2114637</td>\n",
       "    </tr>\n",
       "    <tr>\n",
       "      <th>209</th>\n",
       "      <td>V64R0S</td>\n",
       "      <td>11</td>\n",
       "      <td>No MLST</td>\n",
       "      <td>347</td>\n",
       "      <td>2115087</td>\n",
       "    </tr>\n",
       "    <tr>\n",
       "      <th>212</th>\n",
       "      <td>P44KDR</td>\n",
       "      <td>22</td>\n",
       "      <td>No MLST</td>\n",
       "      <td>351</td>\n",
       "      <td>2226712</td>\n",
       "    </tr>\n",
       "    <tr>\n",
       "      <th>213</th>\n",
       "      <td>G0RIN6</td>\n",
       "      <td>11</td>\n",
       "      <td>No MLST</td>\n",
       "      <td>345</td>\n",
       "      <td>2114634</td>\n",
       "    </tr>\n",
       "    <tr>\n",
       "      <th>214</th>\n",
       "      <td>KXMMN0</td>\n",
       "      <td>11</td>\n",
       "      <td>No MLST</td>\n",
       "      <td>340</td>\n",
       "      <td>2117595</td>\n",
       "    </tr>\n",
       "    <tr>\n",
       "      <th>231</th>\n",
       "      <td>SW0HQL</td>\n",
       "      <td>8345</td>\n",
       "      <td>No MLST</td>\n",
       "      <td>339</td>\n",
       "      <td>2114668</td>\n",
       "    </tr>\n",
       "    <tr>\n",
       "      <th>236</th>\n",
       "      <td>HQRIWB</td>\n",
       "      <td>184</td>\n",
       "      <td>No MLST</td>\n",
       "      <td>342</td>\n",
       "      <td>2203776</td>\n",
       "    </tr>\n",
       "    <tr>\n",
       "      <th>237</th>\n",
       "      <td>CW0840</td>\n",
       "      <td>1655</td>\n",
       "      <td>No MLST</td>\n",
       "      <td>1400</td>\n",
       "      <td>2126658</td>\n",
       "    </tr>\n",
       "    <tr>\n",
       "      <th>241</th>\n",
       "      <td>BBJPDX</td>\n",
       "      <td>213</td>\n",
       "      <td>No MLST</td>\n",
       "      <td>463</td>\n",
       "      <td>2206653</td>\n",
       "    </tr>\n",
       "    <tr>\n",
       "      <th>250</th>\n",
       "      <td>SQFMCY</td>\n",
       "      <td>32</td>\n",
       "      <td>No MLST</td>\n",
       "      <td>993</td>\n",
       "      <td>2150472</td>\n",
       "    </tr>\n",
       "    <tr>\n",
       "      <th>254</th>\n",
       "      <td>I0NYH2</td>\n",
       "      <td>11432</td>\n",
       "      <td>No MLST</td>\n",
       "      <td>333</td>\n",
       "      <td>2139692</td>\n",
       "    </tr>\n",
       "    <tr>\n",
       "      <th>257</th>\n",
       "      <td>7ZDX4Y</td>\n",
       "      <td>1655</td>\n",
       "      <td>No MLST</td>\n",
       "      <td>308</td>\n",
       "      <td>2105583</td>\n",
       "    </tr>\n",
       "    <tr>\n",
       "      <th>260</th>\n",
       "      <td>1PCVMP</td>\n",
       "      <td>1655</td>\n",
       "      <td>1655</td>\n",
       "      <td>445</td>\n",
       "      <td>2108329</td>\n",
       "    </tr>\n",
       "    <tr>\n",
       "      <th>261</th>\n",
       "      <td>IT9HW6</td>\n",
       "      <td>11760</td>\n",
       "      <td>11760</td>\n",
       "      <td>416</td>\n",
       "      <td>2146411</td>\n",
       "    </tr>\n",
       "  </tbody>\n",
       "</table>\n",
       "</div>"
      ],
      "text/plain": [
       "    Isolate MLST_A               MLST_B  Contigs       bp\n",
       "1    U3IZ39     11              No MLST      332  2111595\n",
       "6    T11YGO   1214              No MLST     1153  2174427\n",
       "67   165CPD   1281              No MLST      576  2207227\n",
       "123  F0L894    213              No MLST      303  2197685\n",
       "134  4ZXGTL    184                  184      569  2204001\n",
       "135  CKTCXR    184                  184      597  2207457\n",
       "138  NG0HH6     11                   11      401  2108817\n",
       "139  DHKXVT  12004                  new      700  2224354\n",
       "140  66I49J     22              No MLST     1664  2233879\n",
       "143  6LTLD9     22              No MLST      752  2290294\n",
       "144  IVG1IB     11                   11      371  2108168\n",
       "146  RFLTU9     22                   22      511  2220797\n",
       "147  3M5WZX     11                   11      363  2111698\n",
       "148  K7SM8W     11                   11      355  2106419\n",
       "149  GUG9KD     11                   11      329  2109461\n",
       "150  K8YJER    184                  184      580  2210742\n",
       "152  YGVG18     11                   11      320  2113443\n",
       "153  GI8MZY   1655              No MLST      514  2103321\n",
       "158  D9B15T    344              No MLST      537  2329933\n",
       "163  26G9VX     11                   11      383  2097793\n",
       "180  I25N0N     22                   22      387  2212983\n",
       "183  XGIOVX     22                   22      355  2219438\n",
       "185  VOUJC7  12351  new (ST 11 variant)     1132  2131524\n",
       "192  CTT8VU   1655              No MLST      301  2104693\n",
       "196  GXMBHI    808              No MLST      316  2173776\n",
       "204  W194D0   1655              No MLST      304  2107580\n",
       "205  Q6LJ1U   5390              No MLST      301  2218743\n",
       "207  2N8S53     11              No MLST      368  2114439\n",
       "208  CTGTWG     11              No MLST      346  2114637\n",
       "209  V64R0S     11              No MLST      347  2115087\n",
       "212  P44KDR     22              No MLST      351  2226712\n",
       "213  G0RIN6     11              No MLST      345  2114634\n",
       "214  KXMMN0     11              No MLST      340  2117595\n",
       "231  SW0HQL   8345              No MLST      339  2114668\n",
       "236  HQRIWB    184              No MLST      342  2203776\n",
       "237  CW0840   1655              No MLST     1400  2126658\n",
       "241  BBJPDX    213              No MLST      463  2206653\n",
       "250  SQFMCY     32              No MLST      993  2150472\n",
       "254  I0NYH2  11432              No MLST      333  2139692\n",
       "257  7ZDX4Y   1655              No MLST      308  2105583\n",
       "260  1PCVMP   1655                 1655      445  2108329\n",
       "261  IT9HW6  11760                11760      416  2146411"
      ]
     },
     "execution_count": 109,
     "metadata": {},
     "output_type": "execute_result"
    }
   ],
   "source": [
    "combined[(combined['Contigs'] > 300) & (combined['MLST_A'] != 'No MLST')]"
   ]
  },
  {
   "cell_type": "code",
   "execution_count": 105,
   "metadata": {},
   "outputs": [
    {
     "data": {
      "text/plain": [
       "253.0109489051095"
      ]
     },
     "execution_count": 105,
     "metadata": {},
     "output_type": "execute_result"
    }
   ],
   "source": [
    "combined['Contigs'].mean()"
   ]
  },
  {
   "cell_type": "code",
   "execution_count": 112,
   "metadata": {},
   "outputs": [
    {
     "data": {
      "text/html": [
       "<div>\n",
       "<style scoped>\n",
       "    .dataframe tbody tr th:only-of-type {\n",
       "        vertical-align: middle;\n",
       "    }\n",
       "\n",
       "    .dataframe tbody tr th {\n",
       "        vertical-align: top;\n",
       "    }\n",
       "\n",
       "    .dataframe thead th {\n",
       "        text-align: right;\n",
       "    }\n",
       "</style>\n",
       "<table border=\"1\" class=\"dataframe\">\n",
       "  <thead>\n",
       "    <tr style=\"text-align: right;\">\n",
       "      <th></th>\n",
       "      <th>Isolate</th>\n",
       "      <th>MLST_A</th>\n",
       "      <th>MLST_B</th>\n",
       "      <th>Contigs</th>\n",
       "      <th>bp</th>\n",
       "    </tr>\n",
       "  </thead>\n",
       "  <tbody>\n",
       "    <tr>\n",
       "      <th>7</th>\n",
       "      <td>OZFKTG</td>\n",
       "      <td>10001</td>\n",
       "      <td>No MLST</td>\n",
       "      <td>190</td>\n",
       "      <td>2156719</td>\n",
       "    </tr>\n",
       "    <tr>\n",
       "      <th>107</th>\n",
       "      <td>W7T1ZN</td>\n",
       "      <td>10498</td>\n",
       "      <td>No MLST</td>\n",
       "      <td>193</td>\n",
       "      <td>2179809</td>\n",
       "    </tr>\n",
       "    <tr>\n",
       "      <th>62</th>\n",
       "      <td>OIIU9N</td>\n",
       "      <td>1061</td>\n",
       "      <td>No MLST</td>\n",
       "      <td>222</td>\n",
       "      <td>2210977</td>\n",
       "    </tr>\n",
       "    <tr>\n",
       "      <th>163</th>\n",
       "      <td>26G9VX</td>\n",
       "      <td>11</td>\n",
       "      <td>11</td>\n",
       "      <td>383</td>\n",
       "      <td>2097793</td>\n",
       "    </tr>\n",
       "    <tr>\n",
       "      <th>164</th>\n",
       "      <td>GPDGT1</td>\n",
       "      <td>11</td>\n",
       "      <td>11</td>\n",
       "      <td>137</td>\n",
       "      <td>2101709</td>\n",
       "    </tr>\n",
       "  </tbody>\n",
       "</table>\n",
       "</div>"
      ],
      "text/plain": [
       "    Isolate MLST_A   MLST_B  Contigs       bp\n",
       "7    OZFKTG  10001  No MLST      190  2156719\n",
       "107  W7T1ZN  10498  No MLST      193  2179809\n",
       "62   OIIU9N   1061  No MLST      222  2210977\n",
       "163  26G9VX     11       11      383  2097793\n",
       "164  GPDGT1     11       11      137  2101709"
      ]
     },
     "execution_count": 112,
     "metadata": {},
     "output_type": "execute_result"
    }
   ],
   "source": [
    "combined_sorted = combined.sort_values(by = 'MLST_A')\n",
    "combined_sorted.head()"
   ]
  }
 ],
 "metadata": {
  "kernelspec": {
   "display_name": "Python 3",
   "language": "python",
   "name": "python3"
  },
  "language_info": {
   "codemirror_mode": {
    "name": "ipython",
    "version": 3
   },
   "file_extension": ".py",
   "mimetype": "text/x-python",
   "name": "python",
   "nbconvert_exporter": "python",
   "pygments_lexer": "ipython3",
   "version": "3.6.4"
  }
 },
 "nbformat": 4,
 "nbformat_minor": 2
}
